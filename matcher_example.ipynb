{
 "cells": [
  {
   "cell_type": "code",
   "execution_count": 85,
   "metadata": {},
   "outputs": [],
   "source": [
    "import spacy\n",
    "from spacy.matcher import *\n",
    "\n",
    "nlp = spacy.load('en')"
   ]
  },
  {
   "cell_type": "code",
   "execution_count": 86,
   "metadata": {
    "scrolled": true
   },
   "outputs": [],
   "source": [
    "# Lets use Spacy.Matcher to find job titles!\n",
    "job_titles = []\n",
    "\n",
    "# Sample doc, from which we will annotate the information we seek\n",
    "doc = nlp(\"Bridge the gap between the clinical, the imaging modalities, and IT stakeholders at a clinical site, and the research and prototyping back office within Philips. We are looking for a qualified data scientist to explore cutting edgle solutions in health informatics. You should be able to work in a multidisciplinary team of data scientists, software engineers, clinical scientists, physicians, department staff, and researchers. The Scientist will join an experienced team of Philips personnel and will be trained at the business and research facilities.\")\n",
    "\n",
    "# Define the patterns\n",
    "job_title_pattern = [{'POS': 'PRON', 'OP': '+'}, # We/I/They/etc\n",
    "                     {'LEMMA': 'be'}, # are/is/am\n",
    "                     {'LOWER': 'looking'}, # looking\n",
    "                     {'POS': 'ADP'}, # preposition, exactly 1\n",
    "                     {'POS': 'DET'}, # determiner, exactly 1\n",
    "                     {'POS': 'ADJ', 'OP': '*'}, # adjective(s), 0 or more\n",
    "                     {'POS': 'NOUN', 'OP': '+'}] # PERSONs, at least 1\n",
    "\n",
    "noun_phrase_pattern = [{'POS': 'DET'},\n",
    "                       {'POS': 'ADJ', 'OP': '*'},\n",
    "                       {'POS': 'NOUN', 'OP': '+'}]\n"
   ]
  },
  {
   "cell_type": "code",
   "execution_count": 87,
   "metadata": {},
   "outputs": [],
   "source": [
    "# Build a Matcher and add the pattern to the matcher\n",
    "matcher = Matcher(nlp.vocab)\n",
    "matcher.add(\"Noun_Phrases\", None, noun_phrase_pattern)\n",
    "matcher.add(\"Job_Titles\", None, job_title_pattern)\n",
    "\n",
    "# Find matches\n",
    "matches=matcher(doc)"
   ]
  },
  {
   "cell_type": "code",
   "execution_count": 88,
   "metadata": {},
   "outputs": [
    {
     "name": "stdout",
     "output_type": "stream",
     "text": [
      "Noun Phrase: the gap\n",
      "Noun Phrase: the imaging modalities\n",
      "Noun Phrase: a clinical site\n",
      "Noun Phrase: the research\n",
      "Job Title: data scientist\n",
      "Noun Phrase: a qualified data scientist\n",
      "Noun Phrase: a multidisciplinary team\n",
      "Noun Phrase: an experienced team\n",
      "Noun Phrase: the business\n"
     ]
    }
   ],
   "source": [
    "# Loop through the matches and print out the relevent portion of the match\n",
    "for match in matches: # match = [(pattern_id, start_idx, end_idx)]\n",
    "    if match[0] == 13161979027269409329: # Matcher takes your pattern title and hashes it, so this corresponds to \"Noun_Phrase\"\n",
    "        noun_phrase_tokens = [x.orth_ for x in doc[match[1]:match[2]]]\n",
    "        print(\"Noun Phrase: \" + \" \".join(noun_phrase_tokens))\n",
    "    else:    \n",
    "        job_title_tokens = [x.orth_ for x in doc[match[1]:match[2]] if x.pos_==\"NOUN\"]\n",
    "        print(\"Job Title: \" + \" \".join(job_title_tokens))"
   ]
  }
 ],
 "metadata": {
  "kernelspec": {
   "display_name": "Python 3",
   "language": "python",
   "name": "python3"
  },
  "language_info": {
   "codemirror_mode": {
    "name": "ipython",
    "version": 3
   },
   "file_extension": ".py",
   "mimetype": "text/x-python",
   "name": "python",
   "nbconvert_exporter": "python",
   "pygments_lexer": "ipython3",
   "version": "3.6.6"
  }
 },
 "nbformat": 4,
 "nbformat_minor": 2
}
